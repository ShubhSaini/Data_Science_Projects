{
 "cells": [
  {
   "cell_type": "markdown",
   "metadata": {},
   "source": [
    "## Que 14:Write a python program to check whether a webpage contains a title or not."
   ]
  },
  {
   "cell_type": "code",
   "execution_count": 1,
   "metadata": {},
   "outputs": [
    {
     "name": "stdout",
     "output_type": "stream",
     "text": [
      "Title of the webpage is: Google\n"
     ]
    }
   ],
   "source": [
    "# USING BEAUTIFUL SOUP\n",
    "from bs4 import BeautifulSoup\n",
    "from urllib.request import urlopen\n",
    "\n",
    "soup = BeautifulSoup(urlopen(\"https://www.google.com\")) \n",
    "title=soup.title.string # this command will get the title of the webpage if any\n",
    "if title!=None:\n",
    "    print(\"Title of the webpage is:\",title)\n",
    "else:\n",
    "    print(\"Webpage do not have any title\",title)"
   ]
  },
  {
   "cell_type": "code",
   "execution_count": 2,
   "metadata": {},
   "outputs": [
    {
     "name": "stdout",
     "output_type": "stream",
     "text": [
      "Title of the webpage is: The Hindu: Breaking News, India News, Sports News and Live Updates\n"
     ]
    }
   ],
   "source": [
    "# USING SELENIUM\n",
    "from selenium import webdriver\n",
    "url=\"https://www.thehindu.com/\"\n",
    "keyword='Data Science'\n",
    "driver=webdriver.Chrome(executable_path='chromedriver')\n",
    "driver.get(url) # this command will search the given url in the browser\n",
    "title=driver.title # this command will get the title of the webpage if any\n",
    "if title!=None:\n",
    "    print(\"Title of the webpage is:\",title)\n",
    "else:\n",
    "    print(\"Webpage do not have any title\",title)"
   ]
  },
  {
   "cell_type": "markdown",
   "metadata": {},
   "source": [
    "## Que 15:\tWrite a python program to access the search bar and search button on images.google.com"
   ]
  },
  {
   "cell_type": "code",
   "execution_count": 3,
   "metadata": {},
   "outputs": [
    {
     "name": "stdout",
     "output_type": "stream",
     "text": [
      "Enter the Keywords: Data Science\n"
     ]
    }
   ],
   "source": [
    "from selenium import webdriver\n",
    "url='https://images.google.com/'\n",
    "keyword = input(\"Enter the Keywords: \") #keyword='Data Science' # getting value at runtime.\n",
    "driver=webdriver.Chrome(executable_path='chromedriver')\n",
    "driver.get(url)\n",
    "searchbar=driver.find_element_by_name('q') # This command will select the search bar.\n",
    "searchbar.send_keys(keyword) # this command will enter the keyword we want to search in the search bar.\n",
    "searchbar.send_keys('\\n') # this command will work as \"enter\" button and the search result will be shown."
   ]
  },
  {
   "cell_type": "code",
   "execution_count": null,
   "metadata": {},
   "outputs": [],
   "source": []
  }
 ],
 "metadata": {
  "kernelspec": {
   "display_name": "Python 3",
   "language": "python",
   "name": "python3"
  },
  "language_info": {
   "codemirror_mode": {
    "name": "ipython",
    "version": 3
   },
   "file_extension": ".py",
   "mimetype": "text/x-python",
   "name": "python",
   "nbconvert_exporter": "python",
   "pygments_lexer": "ipython3",
   "version": "3.7.4"
  }
 },
 "nbformat": 4,
 "nbformat_minor": 2
}
