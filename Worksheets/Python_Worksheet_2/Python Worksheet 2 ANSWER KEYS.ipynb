{
 "cells": [
  {
   "cell_type": "markdown",
   "metadata": {},
   "source": [
    "# Python Worksheet 2            \n",
    "## ANSWER KEYS     \n",
    "\n",
    "**Ans 1)** B (struct)     \n",
    "**Ans 2)** D (_1)     \n",
    "**Ans 3)** A (in)       \n",
    "**Ans 4)** A (left to right)                    \n",
    "**Ans 5)** C (iv – iii – ii – i)              \n",
    "**Ans 6)** C (0.333)                   \n",
    "**Ans 7)** A (** 4** 4)               \n",
    "**Ans 8)** B (str)                \n",
    "**Ans 9)** A, B, D                          \n",
    "**Ans 10)** A, C, D                \n",
    "**Ans 11)** \n",
    "####  Lists            \n",
    "1) List is a collection which is ordered.          \n",
    "2) Lists are mutable (changeable).               \n",
    "3) Allows duplicate members       \n",
    "4) Brackets used to represent: []                   \n",
    "5) Lists are like arrays declared in other languages.           \n",
    "\n",
    "#### Tuples         \n",
    "1) Collection of items which is ordered.                    \n",
    "2) Tuples are immutable (unchangeable).        \n",
    "3) Brackets used to represent: ()          \n",
    "4) Only difference between tuples and lists are that lists can be changed.              \n",
    "5) Tuples are faster than lists as they are immutable.              \n",
    "\n",
    "#### Sets             \n",
    "1) Collection of Unordered and Unindexed items.               \n",
    "2) Sets are mutable (changeable).               \n",
    "3) Does not take duplicate Values.                              \n",
    "4) Sets are unordered, so you cannot be sure in which order the items will appear.            \n",
    "5) Brackets used to represent: { }.                           \n",
    "6) Sets are not faster than lists however they have a upper hand when it comes to membership testing.              \n",
    "                   \n",
    "#### Dictionaries            \n",
    "1) Key:Value Pair in Python                            \n",
    "2) A dictionary is a collection which is unordered, changeable and indexed.                   \n",
    "3) In Python dictionaries are written with curly brackets, and they have keys and values.               \n",
    "4) Brackets used to represent: {}.       \n"
   ]
  },
  {
   "cell_type": "markdown",
   "metadata": {},
   "source": [
    "**Ans 12)** Are strings mutable in python? Suppose you have a string “I+Love+Python”, write a small code to replace ‘+’ with space in python"
   ]
  },
  {
   "cell_type": "markdown",
   "metadata": {},
   "source": [
    "Strings are immutable in python that means a string value cannot be updated."
   ]
  },
  {
   "cell_type": "code",
   "execution_count": 1,
   "metadata": {},
   "outputs": [
    {
     "data": {
      "text/plain": [
       "'I Love Python'"
      ]
     },
     "execution_count": 1,
     "metadata": {},
     "output_type": "execute_result"
    }
   ],
   "source": [
    "string=\"I+Love+Python\"\n",
    "# using replace function to replace the value\n",
    "replaced_string=string.replace(\"+\",\" \")\n",
    "replaced_string"
   ]
  },
  {
   "cell_type": "markdown",
   "metadata": {},
   "source": [
    "  \n",
    "  \n",
    "  "
   ]
  },
  {
   "cell_type": "markdown",
   "metadata": {},
   "source": [
    "**Ans 13)** What does the function ord() do in python? Explain with example. Also, write down the function for getting the datatype of a variable in python."
   ]
  },
  {
   "cell_type": "markdown",
   "metadata": {},
   "source": [
    "**ord():** \n",
    "The Python ord() Function is an inbuilt function which returns an integer representing the Unicode code of the specified character. In Python, every Unicode character has been assigned an integer number. So by using Python ord() built-in function, we can find out that integer number by directly passing the Unicode character to this function as an argument."
   ]
  },
  {
   "cell_type": "code",
   "execution_count": 2,
   "metadata": {},
   "outputs": [
    {
     "name": "stdout",
     "output_type": "stream",
     "text": [
      "Unicode value for the Character 'A' is: 65\n"
     ]
    }
   ],
   "source": [
    "# Example of ord() function\n",
    "print(\"Unicode value for the Character 'A' is:\",ord('A'))"
   ]
  },
  {
   "cell_type": "code",
   "execution_count": 3,
   "metadata": {},
   "outputs": [
    {
     "name": "stdout",
     "output_type": "stream",
     "text": [
      "Datatype of variable a is: \n"
     ]
    },
    {
     "data": {
      "text/plain": [
       "str"
      ]
     },
     "execution_count": 3,
     "metadata": {},
     "output_type": "execute_result"
    }
   ],
   "source": [
    "# Function to write the datatype of a variable in python\n",
    "\n",
    "a=\"SHUBHAM\"\n",
    "print(\"Datatype of variable a is: \")\n",
    "# to find the datatype\n",
    "type(a)"
   ]
  },
  {
   "cell_type": "markdown",
   "metadata": {},
   "source": [
    "       "
   ]
  },
  {
   "cell_type": "markdown",
   "metadata": {},
   "source": [
    "**Answer (14)** Python program to solve a quadratic equation of the form 𝑎(𝑥^2)+𝑏𝑥+𝑐=0."
   ]
  },
  {
   "cell_type": "code",
   "execution_count": 4,
   "metadata": {},
   "outputs": [
    {
     "name": "stdout",
     "output_type": "stream",
     "text": [
      "Enter value of a: 0\n",
      "You input wrong value 'a' can not be 0, Please enter again\n",
      "Enter value of a: 3\n",
      "Enter value of b: 6\n",
      "Enter value of c: 2\n",
      "Roots are real and different \n",
      "Roots of the quadratic equation are:  -0.42264973081037427  and  -1.5773502691896255\n"
     ]
    }
   ],
   "source": [
    "#importing useful libraries\n",
    "import pandas as pd\n",
    "import numpy as np\n",
    "\n",
    "# This function will take 3 inputs (a,b,c) and then solve the quadratic equation and find out the roots.\n",
    "def quadratic(a,b,c):\n",
    "    e=(b**2) - (4*a*c) \n",
    "    d=np.sqrt(abs(e))\n",
    "    if (e > 0):\n",
    "        t= ((-b) + d)/(2*a)\n",
    "        s= ((-b) - d)/(2*a)\n",
    "        print(\"Roots are real and different \")\n",
    "        print(\"Roots of the quadratic equation are: \",t,\" and \",s)\n",
    "    \n",
    "    if (e==0):\n",
    "        t=(-b / (2*a))\n",
    "        print(\"Roots are same \")\n",
    "        print(\"Roots of the quadratic equation are: \",t,\" and \",t)\n",
    "        \n",
    "    if (e<0):\n",
    "        t= (- b / (2*a) ) \n",
    "        print(\"Roots are complex \")\n",
    "        print(\"Roots of the quadratic equation are: \",t, \" + i\",d,\" and \",t, \" + i\",d)\n",
    "        \n",
    "# This function will ask user to enter the value of a and if user by mistake entered value of a=0,\n",
    "#      then the user will be asked again to enter the value of a until we get correct value.\n",
    "def input_a():\n",
    "    a=int(input(\"Enter value of a: \" ))\n",
    "    if a==0:\n",
    "        print(\"You input wrong value 'a' can not be 0, Please enter again\")\n",
    "        a=input_a()\n",
    "    return a\n",
    "\n",
    "# This function will ask user to input values of variable b and c.\n",
    "def input_value():    \n",
    "    b=int(input(\"Enter value of b: \" ))\n",
    "    c=int(input(\"Enter value of c: \" ))\n",
    "    return b,c\n",
    "\n",
    "# Now calling function to displaying the result\n",
    "a=input_a()\n",
    "b,c=input_value()\n",
    "quadratic(a,b,c)\n",
    "    "
   ]
  },
  {
   "cell_type": "markdown",
   "metadata": {},
   "source": [
    "      "
   ]
  },
  {
   "cell_type": "markdown",
   "metadata": {},
   "source": [
    "**Answer(15)** Python program to find the sum of first ‘n’ natural numbers without using any loop"
   ]
  },
  {
   "cell_type": "code",
   "execution_count": 5,
   "metadata": {},
   "outputs": [
    {
     "name": "stdout",
     "output_type": "stream",
     "text": [
      "Enter the value of natural number 6\n",
      "The sum of first 6 natural numbers is  21.0\n"
     ]
    }
   ],
   "source": [
    "# Asking user to input the value of natural number\n",
    "n=int(input(\"Enter the value of natural number \"))\n",
    "\n",
    "# Calculating and printing the sum of natural numbers\n",
    "print(f\"The sum of first {n} natural numbers is \",n*(n+1)/2)"
   ]
  },
  {
   "cell_type": "code",
   "execution_count": null,
   "metadata": {},
   "outputs": [],
   "source": []
  }
 ],
 "metadata": {
  "kernelspec": {
   "display_name": "Python 3",
   "language": "python",
   "name": "python3"
  },
  "language_info": {
   "codemirror_mode": {
    "name": "ipython",
    "version": 3
   },
   "file_extension": ".py",
   "mimetype": "text/x-python",
   "name": "python",
   "nbconvert_exporter": "python",
   "pygments_lexer": "ipython3",
   "version": "3.7.4"
  }
 },
 "nbformat": 4,
 "nbformat_minor": 2
}
