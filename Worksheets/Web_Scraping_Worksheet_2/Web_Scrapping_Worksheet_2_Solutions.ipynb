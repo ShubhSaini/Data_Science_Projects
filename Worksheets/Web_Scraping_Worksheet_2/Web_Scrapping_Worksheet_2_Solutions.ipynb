{
 "cells": [
  {
   "cell_type": "markdown",
   "metadata": {},
   "source": [
    "# Web Scrapping Worksheet 2 (Solutions)"
   ]
  },
  {
   "cell_type": "markdown",
   "metadata": {},
   "source": [
    "**Ans 1)** C) find_all()     \n",
    "**Ans 2)** C) Unix       \n",
    "**Ans 3)** C) ASP            \n",
    "**Ans 4)** D) send_keys()              \n",
    "**Ans 5)** B) Indexing          \n",
    "**Ans 6)** C) Web-spider    \n",
    "**Ans 7)** C) WebDriverWait  \n",
    "**Ans 8)** A) title_contains    \n",
    "**Ans 9)** C) XML    \n",
    "**Ans 10)** B) find_element_by_id    \n",
    "**Ans 11)** A) class, B) href   \n",
    "**Ans 12)** C) lxml   \n",
    "**Ans 13)** A) Selenium, B) BeautifulSoup, C) Requests"
   ]
  },
  {
   "cell_type": "markdown",
   "metadata": {},
   "source": [
    "### Que 14) Python program to scrap 10 images of Rayban Sunglasses from flipkart website and save them in a directory."
   ]
  },
  {
   "cell_type": "code",
   "execution_count": 1,
   "metadata": {},
   "outputs": [],
   "source": [
    "import selenium\n",
    "import os\n",
    "import requests\n",
    "from selenium import webdriver\n",
    "from selenium.common.exceptions import NoSuchElementException\n",
    "from selenium.common.exceptions import ElementNotInteractableException\n",
    "\n",
    "data_path=os.getcwd()\n",
    "path=os.path.join(data_path,'Flipkart_Images')\n",
    "if not os.path.exists(path):\n",
    "    os.makedirs(path)\n",
    "\n",
    "def Scraping_images():\n",
    "    driver=webdriver.Chrome(executable_path=\"chromedriver\")\n",
    "    url=\"https://www.flipkart.com/\"\n",
    "    driver.get(url)\n",
    "\n",
    "    driver.find_element_by_xpath(\"//button[@class='_2AkmmA _29YdH8']\").click()\n",
    "    element=driver.find_element_by_xpath(\"//div[@class='O8ZS_U']//input\")\n",
    "    element.click()\n",
    "    driver.implicitly_wait(5)\n",
    "    element.send_keys(\"Rayban Glasses\")\n",
    "    element.send_keys(\"\\n\")\n",
    "    images=[]\n",
    "    k=1\n",
    "    for i in range(1,11):\n",
    "        for j in range(1,5):\n",
    "            if len(images)<=9:\n",
    "                img=driver.find_element_by_xpath(f\"//div[@class='bhgxx2 col-12-12'][{i}]//div[@style='width: 25%;'][{j}]//div[@class='IIdQZO _1SSAGr']//a//img\")\n",
    "                images.append(img.get_attribute(\"src\"))\n",
    "                print(f\"Scrapping Rayban glasses image {k}\")\n",
    "                k+=1\n",
    "            else:\n",
    "                break      \n",
    "    return images\n",
    "\n",
    "\n",
    "# Making different function to save images with different name\n",
    "def save_images(data, dirname):\n",
    "    for index,link in enumerate(data):\n",
    "        print(f\"Downloading {index+1} of {len(data)} images \")\n",
    "        response=requests.get(link)\n",
    "        with open(f\"{dirname}/Rayban_Image_{index+1}.jpeg\",\"wb\") as file:\n",
    "            file.write(response.content)"
   ]
  },
  {
   "cell_type": "code",
   "execution_count": 2,
   "metadata": {},
   "outputs": [
    {
     "name": "stdout",
     "output_type": "stream",
     "text": [
      "Scrapping Rayban glasses image 1\n",
      "Scrapping Rayban glasses image 2\n",
      "Scrapping Rayban glasses image 3\n",
      "Scrapping Rayban glasses image 4\n",
      "Scrapping Rayban glasses image 5\n",
      "Scrapping Rayban glasses image 6\n",
      "Scrapping Rayban glasses image 7\n",
      "Scrapping Rayban glasses image 8\n",
      "Scrapping Rayban glasses image 9\n",
      "Scrapping Rayban glasses image 10\n"
     ]
    }
   ],
   "source": [
    "# Scraping image links\n",
    "scrap_images=Scraping_images()"
   ]
  },
  {
   "cell_type": "code",
   "execution_count": 3,
   "metadata": {},
   "outputs": [
    {
     "name": "stdout",
     "output_type": "stream",
     "text": [
      "Downloading 1 of 10 images \n",
      "Downloading 2 of 10 images \n",
      "Downloading 3 of 10 images \n",
      "Downloading 4 of 10 images \n",
      "Downloading 5 of 10 images \n",
      "Downloading 6 of 10 images \n",
      "Downloading 7 of 10 images \n",
      "Downloading 8 of 10 images \n",
      "Downloading 9 of 10 images \n",
      "Downloading 10 of 10 images \n"
     ]
    }
   ],
   "source": [
    "save_images(scrap_images,'Flipkart_Images')"
   ]
  },
  {
   "cell_type": "code",
   "execution_count": 4,
   "metadata": {},
   "outputs": [
    {
     "data": {
      "text/plain": [
       "['Rayban_Image_1.jpeg',\n",
       " 'Rayban_Image_10.jpeg',\n",
       " 'Rayban_Image_2.jpeg',\n",
       " 'Rayban_Image_3.jpeg',\n",
       " 'Rayban_Image_4.jpeg',\n",
       " 'Rayban_Image_5.jpeg',\n",
       " 'Rayban_Image_6.jpeg',\n",
       " 'Rayban_Image_7.jpeg',\n",
       " 'Rayban_Image_8.jpeg',\n",
       " 'Rayban_Image_9.jpeg']"
      ]
     },
     "execution_count": 4,
     "metadata": {},
     "output_type": "execute_result"
    }
   ],
   "source": [
    "# Displaying directory content\n",
    "filenames = os.listdir(\"Flipkart_Images\")\n",
    "filenames"
   ]
  },
  {
   "cell_type": "markdown",
   "metadata": {},
   "source": [
    "### Que 15) Program to scrap 20 mouses’ data which includes model name, price from www.amazon.in whose price is less than 500 and make a data frame with 2 columns “model_name”,” price” with the scraped data"
   ]
  },
  {
   "cell_type": "code",
   "execution_count": 5,
   "metadata": {},
   "outputs": [
    {
     "name": "stdout",
     "output_type": "stream",
     "text": [
      "Scrapping of Mouse data with Price less than 500 is Completed\n"
     ]
    }
   ],
   "source": [
    "driver=webdriver.Chrome(executable_path=\"chromedriver\")\n",
    "url=\"https://www.amazon.in/\"\n",
    "driver.get(url)\n",
    "element=driver.find_element_by_xpath(\"//div[@id='nav-search']//div[@class='nav-search-field ']//input\")\n",
    "element.click()\n",
    "element.send_keys(\"Mouse\")\n",
    "element.send_keys(\"\\n\")\n",
    "names=[]\n",
    "prices=[]\n",
    "\n",
    "\n",
    "for j in range(1,3):\n",
    "    for i in range(1,23):\n",
    "        # model name\n",
    "        if len(names)<20:\n",
    "            driver.implicitly_wait(10)\n",
    "            name=driver.find_element_by_xpath(f\"//div[@data-component-type='s-search-result'][{i}]//h2//span\").text\n",
    "\n",
    "            # price\n",
    "            try:\n",
    "                price=driver.find_element_by_xpath(f\"//div[@data-component-type='s-search-result'][{i}]//div[@class='sg-col-4-of-12 sg-col-8-of-16 sg-col-16-of-24 sg-col-12-of-20 sg-col-24-of-32 sg-col sg-col-28-of-36 sg-col-20-of-28']//span[@class='a-price']//span//span[2]\").text\n",
    "                price=float(price)\n",
    "                if price < 500:\n",
    "                    names.append(name)\n",
    "                    prices.append(price)\n",
    "                    \n",
    "            except NoSuchElementException:\n",
    "                continue  \n",
    "        else:\n",
    "            break\n",
    "    driver.find_element_by_xpath(\"//ul[@class='a-pagination']//li[@class='a-last']//a\").click()\n",
    "print(\"Scrapping of Mouse data with Price less than 500 is Completed\")\n",
    "   "
   ]
  },
  {
   "cell_type": "code",
   "execution_count": 6,
   "metadata": {},
   "outputs": [
    {
     "name": "stdout",
     "output_type": "stream",
     "text": [
      "Number of products Scrapped:  20\n"
     ]
    }
   ],
   "source": [
    "print(\"Number of products Scrapped: \",len(names))\n"
   ]
  },
  {
   "cell_type": "code",
   "execution_count": 7,
   "metadata": {},
   "outputs": [
    {
     "data": {
      "text/html": [
       "<div>\n",
       "<style scoped>\n",
       "    .dataframe tbody tr th:only-of-type {\n",
       "        vertical-align: middle;\n",
       "    }\n",
       "\n",
       "    .dataframe tbody tr th {\n",
       "        vertical-align: top;\n",
       "    }\n",
       "\n",
       "    .dataframe thead th {\n",
       "        text-align: right;\n",
       "    }\n",
       "</style>\n",
       "<table border=\"1\" class=\"dataframe\">\n",
       "  <thead>\n",
       "    <tr style=\"text-align: right;\">\n",
       "      <th></th>\n",
       "      <th>Model_Names</th>\n",
       "      <th>Price</th>\n",
       "    </tr>\n",
       "  </thead>\n",
       "  <tbody>\n",
       "    <tr>\n",
       "      <td>0</td>\n",
       "      <td>Zinq Technologies ZQ233 Wired Mouse with 1000D...</td>\n",
       "      <td>199.0</td>\n",
       "    </tr>\n",
       "    <tr>\n",
       "      <td>1</td>\n",
       "      <td>Logitech M90 Wired USB Mouse, 1000 DPI Optical...</td>\n",
       "      <td>299.0</td>\n",
       "    </tr>\n",
       "    <tr>\n",
       "      <td>2</td>\n",
       "      <td>Xmate Zorro Wired USB Gaming Mouse, 3200 DPI O...</td>\n",
       "      <td>499.0</td>\n",
       "    </tr>\n",
       "    <tr>\n",
       "      <td>3</td>\n",
       "      <td>Lenovo 300 Wired USB Mouse, GX30M39704</td>\n",
       "      <td>299.0</td>\n",
       "    </tr>\n",
       "    <tr>\n",
       "      <td>4</td>\n",
       "      <td>Ant Esports GM200W Gaming Mouse Wired, 6 Progr...</td>\n",
       "      <td>449.0</td>\n",
       "    </tr>\n",
       "    <tr>\n",
       "      <td>5</td>\n",
       "      <td>HP X1000 Wired Mouse (Black/Grey)</td>\n",
       "      <td>349.0</td>\n",
       "    </tr>\n",
       "    <tr>\n",
       "      <td>6</td>\n",
       "      <td>Xmate Rio Wired USB Gaming Mouse, Led Backlit,...</td>\n",
       "      <td>399.0</td>\n",
       "    </tr>\n",
       "    <tr>\n",
       "      <td>7</td>\n",
       "      <td>Dell Ms116 275-BBCB Optical Mouse</td>\n",
       "      <td>349.0</td>\n",
       "    </tr>\n",
       "    <tr>\n",
       "      <td>8</td>\n",
       "      <td>Dell MS116 1000DPI USB Wired Optical Mouse</td>\n",
       "      <td>405.0</td>\n",
       "    </tr>\n",
       "    <tr>\n",
       "      <td>9</td>\n",
       "      <td>Zinq Technologies ZQ233 Wired Mouse with 1000D...</td>\n",
       "      <td>199.0</td>\n",
       "    </tr>\n",
       "    <tr>\n",
       "      <td>10</td>\n",
       "      <td>HP Wired Mouse M10</td>\n",
       "      <td>338.0</td>\n",
       "    </tr>\n",
       "    <tr>\n",
       "      <td>11</td>\n",
       "      <td>iBall Style 63 Optical Mouse (Black)</td>\n",
       "      <td>275.0</td>\n",
       "    </tr>\n",
       "    <tr>\n",
       "      <td>12</td>\n",
       "      <td>Portronics Toad 12 Wireless 2.4G Optical Mouse...</td>\n",
       "      <td>477.0</td>\n",
       "    </tr>\n",
       "    <tr>\n",
       "      <td>13</td>\n",
       "      <td>Zebronics Zeb-Rise Wired USB Optical Mouse wit...</td>\n",
       "      <td>135.0</td>\n",
       "    </tr>\n",
       "    <tr>\n",
       "      <td>14</td>\n",
       "      <td>Zebronics Zeb-Alex Wired USB Optical Mouse wit...</td>\n",
       "      <td>225.0</td>\n",
       "    </tr>\n",
       "    <tr>\n",
       "      <td>15</td>\n",
       "      <td>Quantum QHM232 3-Button 1000DPI Wired Optical ...</td>\n",
       "      <td>222.0</td>\n",
       "    </tr>\n",
       "    <tr>\n",
       "      <td>16</td>\n",
       "      <td>Portronics Toad 12 Wireless 2.4G Optical Mouse...</td>\n",
       "      <td>477.0</td>\n",
       "    </tr>\n",
       "    <tr>\n",
       "      <td>17</td>\n",
       "      <td>iBall FreeGo G20 High Speed Wireless Optical M...</td>\n",
       "      <td>499.0</td>\n",
       "    </tr>\n",
       "    <tr>\n",
       "      <td>18</td>\n",
       "      <td>HP USB X500 Wired Optical Sensor Mouse 3 Butto...</td>\n",
       "      <td>429.0</td>\n",
       "    </tr>\n",
       "    <tr>\n",
       "      <td>19</td>\n",
       "      <td>Zinq Technologies 1070 3200 DPI LED Backlight ...</td>\n",
       "      <td>449.0</td>\n",
       "    </tr>\n",
       "  </tbody>\n",
       "</table>\n",
       "</div>"
      ],
      "text/plain": [
       "                                          Model_Names  Price\n",
       "0   Zinq Technologies ZQ233 Wired Mouse with 1000D...  199.0\n",
       "1   Logitech M90 Wired USB Mouse, 1000 DPI Optical...  299.0\n",
       "2   Xmate Zorro Wired USB Gaming Mouse, 3200 DPI O...  499.0\n",
       "3              Lenovo 300 Wired USB Mouse, GX30M39704  299.0\n",
       "4   Ant Esports GM200W Gaming Mouse Wired, 6 Progr...  449.0\n",
       "5                   HP X1000 Wired Mouse (Black/Grey)  349.0\n",
       "6   Xmate Rio Wired USB Gaming Mouse, Led Backlit,...  399.0\n",
       "7                   Dell Ms116 275-BBCB Optical Mouse  349.0\n",
       "8          Dell MS116 1000DPI USB Wired Optical Mouse  405.0\n",
       "9   Zinq Technologies ZQ233 Wired Mouse with 1000D...  199.0\n",
       "10                                 HP Wired Mouse M10  338.0\n",
       "11               iBall Style 63 Optical Mouse (Black)  275.0\n",
       "12  Portronics Toad 12 Wireless 2.4G Optical Mouse...  477.0\n",
       "13  Zebronics Zeb-Rise Wired USB Optical Mouse wit...  135.0\n",
       "14  Zebronics Zeb-Alex Wired USB Optical Mouse wit...  225.0\n",
       "15  Quantum QHM232 3-Button 1000DPI Wired Optical ...  222.0\n",
       "16  Portronics Toad 12 Wireless 2.4G Optical Mouse...  477.0\n",
       "17  iBall FreeGo G20 High Speed Wireless Optical M...  499.0\n",
       "18  HP USB X500 Wired Optical Sensor Mouse 3 Butto...  429.0\n",
       "19  Zinq Technologies 1070 3200 DPI LED Backlight ...  449.0"
      ]
     },
     "execution_count": 7,
     "metadata": {},
     "output_type": "execute_result"
    }
   ],
   "source": [
    "import pandas as pd\n",
    "df=pd.DataFrame(names,columns=['Model_Names'])\n",
    "df['Price']=prices\n",
    "df"
   ]
  },
  {
   "cell_type": "code",
   "execution_count": null,
   "metadata": {},
   "outputs": [],
   "source": []
  }
 ],
 "metadata": {
  "kernelspec": {
   "display_name": "Python 3",
   "language": "python",
   "name": "python3"
  },
  "language_info": {
   "codemirror_mode": {
    "name": "ipython",
    "version": 3
   },
   "file_extension": ".py",
   "mimetype": "text/x-python",
   "name": "python",
   "nbconvert_exporter": "python",
   "pygments_lexer": "ipython3",
   "version": "3.7.4"
  }
 },
 "nbformat": 4,
 "nbformat_minor": 2
}
