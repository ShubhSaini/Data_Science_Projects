{
 "cells": [
  {
   "cell_type": "markdown",
   "metadata": {},
   "source": [
    "# PYTHON WORKSHEET – WORKSHEET 4\n",
    "**ANS 1)** B) len()                        \n",
    "**ANS 2)** C) compiled then interpreted               \n",
    "**ANS 3)** B) [1,2,2,1]             \n",
    "**ANS 4)** D) [60,30]           \n",
    "**ANS 5)** C) a[ : :-1]          \n",
    "**ANS 6)** B) Meena                                                             \n",
    "**ANS 7)** C) [“World Hello ”, “Python Hello ”, “World Adios ”, “Python Adios ”]    \n",
    "**ANS 8)** A) 4                    \n",
    "**ANS 9)** A) l1+l2, D) l1.extend(l2)                 \n",
    "**ANS 10)** A) s[0]+s[-1], B) s[ : : -1][-1] + s[len(s)-1], D) s[ : : -1][ : : -6]  \n",
    "**ANS 11)**    \n",
    "**INTERPRETER** \n",
    ">> 1)Interpreter translates just one statement of the program at a time into machine code.\t  \n",
    ">> 2)An interpreter takes very less time to analyze the source code. However, the overall time to execute the process is much slower.\t  \n",
    ">> 3)An interpreter does not generate an intermediary code. Hence, an interpreter is highly efficient in terms of its memory.\t\n",
    "\n",
    "**COMPILER**          \n",
    ">> 1)Compiler scans the entire program and translates the whole of it into machine code at once. \n",
    ">> 2)A compiler takes a lot of time to analyze the source code. However, the overall time taken to execute the process is much faster.    \n",
    ">> 3)A compiler always generates an intermediary object code. It will need further linking. Hence more memory is needed.  \n",
    "\n",
    "**Python uses both Interpreter and Compiler, the compilation part is done first when we execute our code and this will generate byte code and internally this byte code gets converted by the python virtual machine(p.v.m) according to the underlying platform(machine+operating system).**\n",
    "\n",
    "**ANS 12)**    \n",
    " It is used to set the path for the user-defined modules so that it can be directly imported into a Python program. It is also responsible for handling the default search path for Python Modules. The PYTHONPATH variable holds a string with the name of various directories that need to be added to the sys.path directory list by Python. "
   ]
  },
  {
   "cell_type": "markdown",
   "metadata": {},
   "source": [
    "**ANS 13) How will you remove all the leading and trailing whitespaces in a string in python? Give one example.**    \n",
    "In Python Trailing and leading spaces can be easily remove using **strip()** function. Given below is an example."
   ]
  },
  {
   "cell_type": "code",
   "execution_count": 1,
   "metadata": {},
   "outputs": [
    {
     "data": {
      "text/plain": [
       "' Hello Python '"
      ]
     },
     "execution_count": 1,
     "metadata": {},
     "output_type": "execute_result"
    }
   ],
   "source": [
    "# string with leading and trailing spaces\n",
    "l=' Hello Python '\n",
    "l"
   ]
  },
  {
   "cell_type": "code",
   "execution_count": 2,
   "metadata": {},
   "outputs": [
    {
     "data": {
      "text/plain": [
       "'Hello Python'"
      ]
     },
     "execution_count": 2,
     "metadata": {},
     "output_type": "execute_result"
    }
   ],
   "source": [
    "# string without leading and trailing spaces\n",
    "l.strip()"
   ]
  },
  {
   "cell_type": "markdown",
   "metadata": {},
   "source": [
    "**ANS 14) Write a python program to represent a user entered number in expanded form.   \n",
    "For eg: user_input = 12345\n",
    "Output = 1*10000 + 2*1000 + 3*100 + 4*10 + 5*1**"
   ]
  },
  {
   "cell_type": "code",
   "execution_count": 3,
   "metadata": {},
   "outputs": [
    {
     "name": "stdout",
     "output_type": "stream",
     "text": [
      "Enter the number:985623\n",
      "Number in the expanded form:  9 * 100000 + 8 * 10000 + 5 * 1000 + 6 * 100 + 2 * 10 + 3 * 1\n"
     ]
    }
   ],
   "source": [
    "number=input(\"Enter the number:\")\n",
    "number=number[::-1]\n",
    "length=len(number)\n",
    "number=int(number)\n",
    "result=[]\n",
    "\n",
    "# Function to expand the given number...\n",
    "def expand(number):\n",
    "    power=length-1\n",
    "    for i in range(0,length):\n",
    "        digit=number%10\n",
    "        number=number//10\n",
    "        result.append(str(digit))\n",
    "        result.append('*')\n",
    "        result.append(str(10**power))\n",
    "        result.append('+')\n",
    "        power-=1\n",
    "expand(number)\n",
    "str1=\" \"\n",
    "print(\"Number in the expanded form: \",str1.join(result[:-1]))"
   ]
  },
  {
   "cell_type": "markdown",
   "metadata": {},
   "source": [
    "**ANS 15) Write a python program to determine whether the number entered by the user is an Armstrong number or not?**"
   ]
  },
  {
   "cell_type": "code",
   "execution_count": 4,
   "metadata": {},
   "outputs": [
    {
     "name": "stdout",
     "output_type": "stream",
     "text": [
      "Enter the number:153\n",
      "The number is an Armstrong number\n"
     ]
    }
   ],
   "source": [
    "# Function to check whether the given number is an armstrong number or not.\n",
    "\n",
    "def armstrong(number):\n",
    "    result=0\n",
    "    numb=number\n",
    "    for i in range(0,length):\n",
    "        digit=numb%10\n",
    "        result=result + (digit**3)\n",
    "        numb=numb//10\n",
    "    if (number==result):\n",
    "        print(\"The number is an Armstrong number\")\n",
    "    elif (number!=result):\n",
    "        print(\"The number is not an Armstrong number\") \n",
    "\n",
    "# Asking user top input the number..\n",
    "\n",
    "number=input(\"Enter the number:\")\n",
    "length=len(number)\n",
    "number=int(number)\n",
    "armstrong(number)"
   ]
  },
  {
   "cell_type": "markdown",
   "metadata": {},
   "source": [
    "# End of the Document"
   ]
  }
 ],
 "metadata": {
  "kernelspec": {
   "display_name": "Python 3",
   "language": "python",
   "name": "python3"
  },
  "language_info": {
   "codemirror_mode": {
    "name": "ipython",
    "version": 3
   },
   "file_extension": ".py",
   "mimetype": "text/x-python",
   "name": "python",
   "nbconvert_exporter": "python",
   "pygments_lexer": "ipython3",
   "version": "3.7.4"
  }
 },
 "nbformat": 4,
 "nbformat_minor": 2
}
