{
 "cells": [
  {
   "cell_type": "markdown",
   "metadata": {},
   "source": [
    "# PYTHON WORKSHEET 5(Solutions)    \n",
    "\n",
    "**ANS 1)** C) +    \n",
    "**ANS 2)** D) i-False, ii-True    \n",
    "**ANS 3)** B) [“ABC”,” RAHUL”,” NITIN”]    \n",
    "**ANS 4)** D) [2,4,6]  \n",
    "**ANS 5)** C) [6]   \n",
    "**ANS 6)** D) None of the above   \n",
    "**ANS 7)** B) error   \n",
    "**ANS 8)** C) a[1][1]   \n",
    "**ANS 9)** D) None of the above   \n",
    "**ANS 10)** D) All of the above.   \n",
    "\n",
    "**ANS 11)**   \n",
    "**List:** \n",
    ">>1) Lists are just like dynamic sized arrays, declared in other languages. Lists need not be homogeneous.     \n",
    ">>2) List are mutable .i.e it can be converted into another data type and can store any data element in it.   \n",
    ">>3) It is defined under square brackets.    \n",
    "\n",
    "**Set:** \n",
    ">>1) Sets are an unordered collection of data type that is iterable, mutable, and has no duplicate elements.   \n",
    ">>2) Here the order in which the elements are added into the set is not fixed, it can change frequently.  \n",
    ">>3) It is defined under curly braces.     \n"
   ]
  },
  {
   "cell_type": "markdown",
   "metadata": {},
   "source": [
    "**Que 12) Write a python program to square the elements of a list by using list comprehension.**  "
   ]
  },
  {
   "cell_type": "code",
   "execution_count": 1,
   "metadata": {},
   "outputs": [
    {
     "name": "stdout",
     "output_type": "stream",
     "text": [
      "Enter elements in the list:\n",
      "2 5 26 15 52\n",
      "\n",
      "The Square of the numbers in the list are: [4, 25, 676, 225, 2704]\n"
     ]
    }
   ],
   "source": [
    "# solution\n",
    "list_1=[int(num) for num in input(\"Enter elements in the list:\\n\").split()]\n",
    "list_2=[i**2 for i in list_1]\n",
    "print(\"\\nThe Square of the numbers in the list are:\",list_2)"
   ]
  },
  {
   "cell_type": "markdown",
   "metadata": {},
   "source": [
    "**Que 13) Write a pyhton program to drop duplicate elements from a list of numbers.**"
   ]
  },
  {
   "cell_type": "code",
   "execution_count": 2,
   "metadata": {},
   "outputs": [
    {
     "name": "stdout",
     "output_type": "stream",
     "text": [
      "Enter elements in the list:\n",
      "2 56 86 56 2 4 9 4\n",
      "\n",
      "List after duplicate entries removal: {2, 4, 9, 86, 56}\n"
     ]
    }
   ],
   "source": [
    "list_3=[int(num) for num in input(\"Enter elements in the list:\\n\").split()]\n",
    "print(\"\\nList after duplicate entries removal:\",set(list_3))"
   ]
  },
  {
   "cell_type": "markdown",
   "metadata": {},
   "source": [
    "**Que 14) Take two sets of numbers and try implementing the set operations - intersection, union, difference and symmetric_difference between them.**"
   ]
  },
  {
   "cell_type": "code",
   "execution_count": 3,
   "metadata": {},
   "outputs": [
    {
     "name": "stdout",
     "output_type": "stream",
     "text": [
      "Enter elements for first set:\n",
      "2 5 86 36 26 9 8\n",
      "Enter elements for second set:\n",
      "5 63 62 86 26 9\n",
      "\n",
      "Intersection of the sets are:  {9, 26, 5, 86}\n",
      "\n",
      "Union of the sets are:  {2, 36, 5, 8, 9, 86, 26, 62, 63}\n",
      "\n",
      "Difference of the sets are:  {8, 2, 36}\n",
      "\n",
      "Symmetric_difference of the sets are:  {2, 8, 36, 62, 63}\n"
     ]
    }
   ],
   "source": [
    "set_1={int(num) for num in input(\"Enter elements for first set:\\n\").split()}\n",
    "set_2={int(num) for num in input(\"Enter elements for second set:\\n\").split()}\n",
    "\n",
    "\n",
    "# Intersection\n",
    "print(\"\\nIntersection of the sets are: \",set_1.intersection(set_2))\n",
    "\n",
    "# Union\n",
    "print(\"\\nUnion of the sets are: \",set_1.union(set_2))\n",
    "\n",
    "# Difference\n",
    "print(\"\\nDifference of the sets are: \",set_1.difference(set_2))\n",
    "\n",
    "# Symmetric_difference\n",
    "print(\"\\nSymmetric_difference of the sets are: \",set_1.symmetric_difference(set_2))\n",
    "\n"
   ]
  },
  {
   "cell_type": "markdown",
   "metadata": {},
   "source": [
    "**Que 15) Write a python program to add the elements of a set.**"
   ]
  },
  {
   "cell_type": "code",
   "execution_count": 6,
   "metadata": {},
   "outputs": [
    {
     "name": "stdout",
     "output_type": "stream",
     "text": [
      "Enter elements in the set:\n",
      "4 2 6 3 4 8\n",
      "\n",
      "Entered values of set are:  {2, 3, 4, 6, 8}\n",
      "\n",
      "Sum of the alements of the set:  23\n"
     ]
    }
   ],
   "source": [
    "set_3={int(num) for num in input(\"Enter elements in the set:\\n\").split()}\n",
    "print(\"\\nEntered values of set are: \",set_3)\n",
    "print(\"\\nSum of the alements of the set: \",sum(set_3))"
   ]
  },
  {
   "cell_type": "markdown",
   "metadata": {},
   "source": [
    "# End of the Document"
   ]
  }
 ],
 "metadata": {
  "kernelspec": {
   "display_name": "Python 3",
   "language": "python",
   "name": "python3"
  },
  "language_info": {
   "codemirror_mode": {
    "name": "ipython",
    "version": 3
   },
   "file_extension": ".py",
   "mimetype": "text/x-python",
   "name": "python",
   "nbconvert_exporter": "python",
   "pygments_lexer": "ipython3",
   "version": "3.7.4"
  }
 },
 "nbformat": 4,
 "nbformat_minor": 2
}
