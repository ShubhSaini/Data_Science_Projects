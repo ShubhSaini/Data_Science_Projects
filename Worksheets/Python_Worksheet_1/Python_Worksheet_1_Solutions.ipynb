{
 "cells": [
  {
   "cell_type": "markdown",
   "metadata": {},
   "source": [
    "# PYTHON - WORKSHEET 1\n",
    "## ANSWER KEYS\n",
    "\n",
    "1.\t(C) %             \n",
    "2.  (B) 0                 \n",
    "3.  (C) 24               \n",
    "4.  (A) 2                \n",
    "5.  Answer not in options: answer is \"6\"                 \n",
    "6.  (C) the finally block will be executed no matter if the try block raises an error or not.   \n",
    "7.  (A) It is used to raise an exception.            \n",
    "8.  (C) in defining a generator.   \n",
    "\n",
    "9.  (A) _abc           \n",
    "    (C) abc2              \n",
    "    \n",
    "10. (A) yield  \n",
    "    (B) raise   \n",
    "    "
   ]
  },
  {
   "cell_type": "markdown",
   "metadata": {},
   "source": [
    "**ANS 11.) Program to find the factorial of a number.**"
   ]
  },
  {
   "cell_type": "code",
   "execution_count": 1,
   "metadata": {},
   "outputs": [
    {
     "name": "stdout",
     "output_type": "stream",
     "text": [
      "Enter the number:6\n",
      "Factorial of the given number is:  720\n"
     ]
    }
   ],
   "source": [
    "# Asking user to input the number\n",
    "number=int(input(\"Enter the number:\"))\n",
    "fact=number\n",
    "\n",
    "if number==0:\n",
    "    print(\"Factorial of 0 is 1\")\n",
    "    \n",
    "# while loop to calculate the factorial of a given number\n",
    "elif (number!=0):\n",
    "    while(number!=1):\n",
    "        fact*=(number-1)\n",
    "        number-=1\n",
    "\n",
    "# Printing factorial value\n",
    "    print(\"Factorial of the given number is: \",fact)"
   ]
  },
  {
   "cell_type": "markdown",
   "metadata": {},
   "source": [
    "**ANS 12.) Program to find whether a number is prime or composite.**"
   ]
  },
  {
   "cell_type": "code",
   "execution_count": 2,
   "metadata": {},
   "outputs": [
    {
     "name": "stdout",
     "output_type": "stream",
     "text": [
      "Enter the number:29\n",
      "The given number is a prime number\n"
     ]
    }
   ],
   "source": [
    "# Asking user to input the number\n",
    "number=int(input(\"Enter the number:\"))\n",
    "value=number\n",
    "\n",
    "if number ==1:\n",
    "    print(\"The given number is neither composite nor prime number\")\n",
    "\n",
    "elif number<0:\n",
    "    print(\"The given number is a composite number\")\n",
    "\n",
    "# In here all the conditions works together to find whether the number is prime or composite.\n",
    "elif number>1:\n",
    "    while(number!=2):\n",
    "        cond=value%(number-1)\n",
    "        if cond==0:\n",
    "            flag=0 \n",
    "            break\n",
    "        else:\n",
    "            flag=1\n",
    "        number-=1\n",
    "\n",
    "# Printing factorial value \n",
    "    if flag==0:\n",
    "        print(\"The given number is a composite number\")\n",
    "    \n",
    "    elif flag==1:\n",
    "        print(\"The given number is a prime number\")\n",
    "    "
   ]
  },
  {
   "cell_type": "markdown",
   "metadata": {},
   "source": [
    "**ANS 13.) Program to check whether a given string is palindrome or not.**"
   ]
  },
  {
   "cell_type": "code",
   "execution_count": 3,
   "metadata": {},
   "outputs": [
    {
     "name": "stdout",
     "output_type": "stream",
     "text": [
      "Enter the String :racecar\n",
      "The string is palindrome\n"
     ]
    }
   ],
   "source": [
    "value = input(\"Enter the String :\")\n",
    "if(value==value[::-1]):\n",
    "      print(\"The string is palindrome\")\n",
    "else:\n",
    "      print(\"The string is not palindrome\")"
   ]
  },
  {
   "cell_type": "markdown",
   "metadata": {},
   "source": [
    "**ANS 14.) Program to get the third side of right-angled triangle from two given sides**"
   ]
  },
  {
   "cell_type": "code",
   "execution_count": 4,
   "metadata": {},
   "outputs": [
    {
     "name": "stdout",
     "output_type": "stream",
     "text": [
      "\n",
      "You need to enter two sides to find the third one. Please enter your choice properly:\n",
      "\n",
      "Press 'h' to find Hypotenuse and enter length for other two sides.\n",
      "Press 'b' to find Base and enter length for other two sides.\n",
      "Press 'p' to find Perpendicular and enter length for other two sides.\n",
      "Press 'e' to EXIT.\n",
      "\n",
      "Enter your choice:h\n",
      "\n",
      "Enter length of Base: 4\n",
      "Enter length of Perpendicular: 3\n",
      "\n",
      "Hypotenuse of the triangle is:  5.0\n",
      "\n",
      "You need to enter two sides to find the third one. Please enter your choice properly:\n",
      "\n",
      "Press 'h' to find Hypotenuse and enter length for other two sides.\n",
      "Press 'b' to find Base and enter length for other two sides.\n",
      "Press 'p' to find Perpendicular and enter length for other two sides.\n",
      "Press 'e' to EXIT.\n",
      "\n",
      "Enter your choice:e\n"
     ]
    }
   ],
   "source": [
    "import numpy as np\n",
    "def Hyp():\n",
    "    base=float(input(\"\\nEnter length of Base: \"))\n",
    "    perp=float(input(\"Enter length of Perpendicular: \"))\n",
    "    hyp=np.sqrt(base**2 + perp**2)\n",
    "    print(\"\\nHypotenuse of the triangle is: \",hyp)\n",
    "\n",
    "def Base(h,p):\n",
    "    perp=float(input(\"\\nEnter length of Perpendicular: \"))\n",
    "    hyp=float(input(\"Enter length of Hypotenuse: \"))\n",
    "    base=np.sqrt(hyp**2 - perp**2)\n",
    "    print(\"\\nBase of the triangle is: \",base)\n",
    "\n",
    "def Perp(h,b):\n",
    "    hyp=float(input(\"\\nEnter length of Hypotenuse: \"))\n",
    "    base=float(input(\"Enter length of Base: \"))\n",
    "    perp=np.sqrt(hyp**2 - base**2)\n",
    "    print(\"\\nBase of the triangle is: \",perp)\n",
    "\n",
    "def Values():\n",
    "    print(\"\\nYou need to enter two sides to find the third one. Please enter your choice properly:\\n\")\n",
    "    print(\"Press 'h' to find Hypotenuse and enter length for other two sides.\")\n",
    "    print(\"Press 'b' to find Base and enter length for other two sides.\")\n",
    "    print(\"Press 'p' to find Perpendicular and enter length for other two sides.\")\n",
    "    print(\"Press 'e' to EXIT.\\n\")\n",
    "    v=input(\"Enter your choice:\")\n",
    "    return v\n",
    "choice=Values()\n",
    "n=1\n",
    "while(n==1):\n",
    "    if choice=='e':\n",
    "        break\n",
    "    elif choice=='h':\n",
    "        Hyp()\n",
    "        choice=Values()\n",
    "    elif choice=='p':\n",
    "        Perp()\n",
    "        choice=Values()\n",
    "    elif choice=='b':\n",
    "        Base()\n",
    "        choice=Values()\n",
    "    n=1"
   ]
  },
  {
   "cell_type": "markdown",
   "metadata": {},
   "source": [
    "**ANS 15.) Program to print the frequency of each of the characters present in a given string.**"
   ]
  },
  {
   "cell_type": "code",
   "execution_count": 5,
   "metadata": {},
   "outputs": [
    {
     "name": "stdout",
     "output_type": "stream",
     "text": [
      "Enter the string: how much wood would a woodchuck chuck if a woodchuck could chuck wood\n",
      "The number of counts of the characters of the given string is:\n",
      " Counts of 'u' in the given string is: 7 \n",
      " Counts of 'h' in the given string is: 6 \n",
      " Counts of 'm' in the given string is: 1 \n",
      " Counts of 'd' in the given string is: 6 \n",
      " Counts of 'i' in the given string is: 1 \n",
      " Counts of 'l' in the given string is: 2 \n",
      " Counts of ' ' in the given string is: 12 \n",
      " Counts of 'o' in the given string is: 11 \n",
      " Counts of 'w' in the given string is: 6 \n",
      " Counts of 'k' in the given string is: 4 \n",
      " Counts of 'a' in the given string is: 2 \n",
      " Counts of 'f' in the given string is: 1 \n",
      " Counts of 'c' in the given string is: 10 \n"
     ]
    }
   ],
   "source": [
    "import pandas as pd\n",
    "value=input(\"Enter the string: \")\n",
    "print(\"The number of counts of the characters of the given string is:\")\n",
    "length=len(value)\n",
    "a=value.split()\n",
    "output=[]\n",
    "\n",
    "def counts(i,count):\n",
    "    k=length-1\n",
    "    while(k!=-1):\n",
    "        \n",
    "        if i == value[k]:\n",
    "            count+=1\n",
    "            flag=1\n",
    "        k-=1\n",
    "    #print(f\" Counts of '{i}' in the given string is: \",count)\n",
    "    output.append(f\" Counts of '{i}' in the given string is: {count} \")\n",
    "for j,i in enumerate(value):\n",
    "    count=0\n",
    "    counts(i,count)\n",
    "    \n",
    "for i in set(output):\n",
    "    print(i)"
   ]
  }
 ],
 "metadata": {
  "kernelspec": {
   "display_name": "Python 3",
   "language": "python",
   "name": "python3"
  },
  "language_info": {
   "codemirror_mode": {
    "name": "ipython",
    "version": 3
   },
   "file_extension": ".py",
   "mimetype": "text/x-python",
   "name": "python",
   "nbconvert_exporter": "python",
   "pygments_lexer": "ipython3",
   "version": "3.7.4"
  }
 },
 "nbformat": 4,
 "nbformat_minor": 2
}
